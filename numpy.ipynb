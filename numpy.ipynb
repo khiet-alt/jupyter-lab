{
 "cells": [
  {
   "cell_type": "markdown",
   "id": "32ac5b92-4687-47ec-81c5-4c4b755f1041",
   "metadata": {},
   "source": [
    "## Hands on!"
   ]
  },
  {
   "cell_type": "code",
   "execution_count": 1,
   "id": "ef3d433e-bfa8-423c-91b8-0bf5ac906f22",
   "metadata": {},
   "outputs": [],
   "source": [
    "import sys\n",
    "import numpy as np"
   ]
  },
  {
   "cell_type": "markdown",
   "id": "51fb29f3-6354-4cc7-882d-9805204f1986",
   "metadata": {
    "tags": []
   },
   "source": [
    "## Basic numpy"
   ]
  },
  {
   "cell_type": "code",
   "execution_count": 5,
   "id": "f9bf8e99-f3ce-4bef-9757-91d2d1627c8f",
   "metadata": {},
   "outputs": [],
   "source": [
    "a = np.array([1,2,3,8,6,7])"
   ]
  },
  {
   "cell_type": "markdown",
   "id": "693ed5c6-8220-442f-af86-0d7c6a8ace05",
   "metadata": {},
   "source": [
    "## Array Types"
   ]
  },
  {
   "cell_type": "code",
   "execution_count": 7,
   "id": "429a191b-3850-47b6-97e9-47757c0bbabc",
   "metadata": {},
   "outputs": [
    {
     "data": {
      "text/plain": [
       "dtype('int32')"
      ]
     },
     "execution_count": 7,
     "metadata": {},
     "output_type": "execute_result"
    }
   ],
   "source": [
    "a.dtype"
   ]
  },
  {
   "cell_type": "code",
   "execution_count": 15,
   "id": "271e6dbb-0b4d-4cb4-a873-f36ed7cfca38",
   "metadata": {},
   "outputs": [
    {
     "data": {
      "text/plain": [
       "array([1., 2., 3.])"
      ]
     },
     "execution_count": 15,
     "metadata": {},
     "output_type": "execute_result"
    }
   ],
   "source": [
    "np.array([1,2,3], dtype=float)"
   ]
  },
  {
   "cell_type": "markdown",
   "id": "a2f74bcb-3c08-4f6c-9eed-69fbe8ade56e",
   "metadata": {
    "tags": []
   },
   "source": [
    "## Dimensions, shapes, indexing and slice"
   ]
  },
  {
   "cell_type": "code",
   "execution_count": 16,
   "id": "9a71bf42-2efb-4d10-aafc-3c9edb0aca2e",
   "metadata": {},
   "outputs": [],
   "source": [
    "A = np.array([\n",
    "    [1,2,3],\n",
    "    [5,1,9]\n",
    "])"
   ]
  },
  {
   "cell_type": "code",
   "execution_count": 18,
   "id": "7701207a-153b-4cf1-a327-a28c2ff55f2a",
   "metadata": {},
   "outputs": [
    {
     "data": {
      "text/plain": [
       "(2, 3)"
      ]
     },
     "execution_count": 18,
     "metadata": {},
     "output_type": "execute_result"
    }
   ],
   "source": [
    "A.shape"
   ]
  },
  {
   "cell_type": "code",
   "execution_count": 19,
   "id": "03200e76-72cb-4847-8a1c-d6abc78dd9bc",
   "metadata": {},
   "outputs": [
    {
     "data": {
      "text/plain": [
       "2"
      ]
     },
     "execution_count": 19,
     "metadata": {},
     "output_type": "execute_result"
    }
   ],
   "source": [
    "A.ndim"
   ]
  },
  {
   "cell_type": "code",
   "execution_count": 20,
   "id": "16399aac-6d6c-472b-aae3-687f80437d11",
   "metadata": {},
   "outputs": [
    {
     "data": {
      "text/plain": [
       "6"
      ]
     },
     "execution_count": 20,
     "metadata": {},
     "output_type": "execute_result"
    }
   ],
   "source": [
    "A.size"
   ]
  },
  {
   "cell_type": "code",
   "execution_count": 21,
   "id": "626a9dd5-1df2-47df-ac5d-97349de4610d",
   "metadata": {},
   "outputs": [],
   "source": [
    "# A[0][1] == A[0,1]"
   ]
  },
  {
   "cell_type": "code",
   "execution_count": 22,
   "id": "37def3f8-8fbc-4d23-ba5b-b1c1d67bb318",
   "metadata": {},
   "outputs": [
    {
     "data": {
      "text/plain": [
       "array([[1, 2],\n",
       "       [5, 1]])"
      ]
     },
     "execution_count": 22,
     "metadata": {},
     "output_type": "execute_result"
    }
   ],
   "source": [
    "A[:, :2]"
   ]
  },
  {
   "cell_type": "markdown",
   "id": "1629b222-2f78-4c27-ae09-03f0f5910c39",
   "metadata": {},
   "source": [
    "## Statistics"
   ]
  },
  {
   "cell_type": "code",
   "execution_count": 24,
   "id": "af221fb0-4f52-4aef-bfb8-ba407e6e12b1",
   "metadata": {},
   "outputs": [],
   "source": [
    "a = np.array([\n",
    "    [1,2,3],\n",
    "    [5,1,9],\n",
    "    [2,5,7]\n",
    "])"
   ]
  },
  {
   "cell_type": "code",
   "execution_count": null,
   "id": "71fecd1f-2f8d-4872-b7ca-72626c78ef76",
   "metadata": {},
   "outputs": [],
   "source": [
    "a.sum()"
   ]
  },
  {
   "cell_type": "code",
   "execution_count": null,
   "id": "e4f9e2f4-1f16-4881-a99f-98641c8c06e8",
   "metadata": {},
   "outputs": [],
   "source": [
    "a.mean()"
   ]
  },
  {
   "cell_type": "code",
   "execution_count": null,
   "id": "cbeda74e-5a90-4449-9fd3-c7b0d0937eae",
   "metadata": {},
   "outputs": [],
   "source": [
    "a.std()"
   ]
  },
  {
   "cell_type": "code",
   "execution_count": null,
   "id": "469c01f2-8bb3-4abd-b678-546adda90e2b",
   "metadata": {},
   "outputs": [],
   "source": [
    "a.var()"
   ]
  },
  {
   "cell_type": "code",
   "execution_count": 25,
   "id": "85fc5fc8-b3c2-4d76-a8a7-efeea670aef1",
   "metadata": {},
   "outputs": [
    {
     "data": {
      "text/plain": [
       "array([ 8,  8, 19])"
      ]
     },
     "execution_count": 25,
     "metadata": {},
     "output_type": "execute_result"
    }
   ],
   "source": [
    "a.sum(axis=0) # sum of column"
   ]
  },
  {
   "cell_type": "code",
   "execution_count": 26,
   "id": "3713afa5-83c2-4906-9e86-52fb3fb4ea89",
   "metadata": {},
   "outputs": [
    {
     "data": {
      "text/plain": [
       "array([ 6, 15, 14])"
      ]
     },
     "execution_count": 26,
     "metadata": {},
     "output_type": "execute_result"
    }
   ],
   "source": [
    "a.sum(axis=1) # sum of row"
   ]
  },
  {
   "cell_type": "code",
   "execution_count": null,
   "id": "c471714d-a42a-4e3e-8a15-150384544740",
   "metadata": {},
   "outputs": [],
   "source": [
    "# mean , std, var has axis parameter as sum"
   ]
  },
  {
   "cell_type": "markdown",
   "id": "7e5159cc-f58d-49c0-8845-ca70976cfa1d",
   "metadata": {},
   "source": [
    "## Broadcasting and vertorized operations:"
   ]
  },
  {
   "cell_type": "code",
   "execution_count": 29,
   "id": "505fdb60-d965-4d36-835c-da967f45b161",
   "metadata": {},
   "outputs": [],
   "source": [
    "a = np.arange(4)"
   ]
  },
  {
   "cell_type": "code",
   "execution_count": 31,
   "id": "efff1787-6de2-49a3-acc0-c1da9eaccce2",
   "metadata": {},
   "outputs": [
    {
     "data": {
      "text/plain": [
       "array([0, 1, 2, 3])"
      ]
     },
     "execution_count": 31,
     "metadata": {},
     "output_type": "execute_result"
    }
   ],
   "source": [
    "a"
   ]
  },
  {
   "cell_type": "code",
   "execution_count": 32,
   "id": "c6ca8c2e-7eb5-46a1-9e8d-1fd44b0644d6",
   "metadata": {},
   "outputs": [
    {
     "data": {
      "text/plain": [
       "array([10, 11, 12, 13])"
      ]
     },
     "execution_count": 32,
     "metadata": {},
     "output_type": "execute_result"
    }
   ],
   "source": [
    "a + 10 # because array in numpy is immutable, so a + 10 will create new array. We can use += to override original array"
   ]
  },
  {
   "cell_type": "markdown",
   "id": "e5d1a67b-e796-45cb-9594-39e73fc691fa",
   "metadata": {},
   "source": [
    "## Boolean Array"
   ]
  },
  {
   "cell_type": "code",
   "execution_count": 37,
   "id": "f225fad3-bd3e-4e44-92c6-7b8c45a10bca",
   "metadata": {},
   "outputs": [],
   "source": [
    "a = np.array([3, 1, 5, 7, 2, 0, 6])"
   ]
  },
  {
   "cell_type": "code",
   "execution_count": 38,
   "id": "c4f5d97c-da14-4e69-945b-7b3da43dc1e0",
   "metadata": {},
   "outputs": [
    {
     "data": {
      "text/plain": [
       "array([5, 7, 6])"
      ]
     },
     "execution_count": 38,
     "metadata": {},
     "output_type": "execute_result"
    }
   ],
   "source": [
    "a[a>3]"
   ]
  },
  {
   "cell_type": "code",
   "execution_count": 39,
   "id": "63c084f1-61e8-471c-9752-73ddffd2967d",
   "metadata": {},
   "outputs": [
    {
     "data": {
      "text/plain": [
       "array([5, 7, 6])"
      ]
     },
     "execution_count": 39,
     "metadata": {},
     "output_type": "execute_result"
    }
   ],
   "source": [
    "a[a > a.mean()]"
   ]
  },
  {
   "cell_type": "code",
   "execution_count": 42,
   "id": "851f5166-b18f-4729-90a2-20f4accd4563",
   "metadata": {},
   "outputs": [
    {
     "data": {
      "text/plain": [
       "array([0])"
      ]
     },
     "execution_count": 42,
     "metadata": {},
     "output_type": "execute_result"
    }
   ],
   "source": [
    "a[ (a == 0) | (a == 4)]"
   ]
  },
  {
   "cell_type": "code",
   "execution_count": 43,
   "id": "80744797-7e79-4b59-9c95-20cd3bca22c0",
   "metadata": {},
   "outputs": [
    {
     "data": {
      "text/plain": [
       "array([ True, False,  True,  True, False, False,  True])"
      ]
     },
     "execution_count": 43,
     "metadata": {},
     "output_type": "execute_result"
    }
   ],
   "source": [
    "a > 2"
   ]
  },
  {
   "cell_type": "markdown",
   "id": "0f87edf3-30b9-4550-9b91-9141d54a8b94",
   "metadata": {},
   "source": [
    "## Linear Algebra"
   ]
  },
  {
   "cell_type": "code",
   "execution_count": 45,
   "id": "4ea06cf8-960a-412a-bc75-3c65b9a50ce4",
   "metadata": {},
   "outputs": [],
   "source": [
    "a = np.array([\n",
    "    [1,2,3],\n",
    "    [5,1,9],\n",
    "    [2,5,7]\n",
    "])"
   ]
  },
  {
   "cell_type": "code",
   "execution_count": 46,
   "id": "60a41e4c-369d-4fcf-b4dd-7621ae8f8791",
   "metadata": {},
   "outputs": [],
   "source": [
    "b = np.array([\n",
    "    [3,1],\n",
    "    [2,8],\n",
    "    [7,3]\n",
    "])"
   ]
  },
  {
   "cell_type": "code",
   "execution_count": 49,
   "id": "6d77e1a5-88f5-46fe-815f-76de55b4f3cc",
   "metadata": {},
   "outputs": [
    {
     "data": {
      "text/plain": [
       "array([[28, 26],\n",
       "       [80, 40],\n",
       "       [65, 63]])"
      ]
     },
     "execution_count": 49,
     "metadata": {},
     "output_type": "execute_result"
    }
   ],
   "source": [
    "a.dot(b)"
   ]
  },
  {
   "cell_type": "code",
   "execution_count": 50,
   "id": "139d7bfc-3ba6-42af-ad3c-f41842eaa736",
   "metadata": {},
   "outputs": [
    {
     "data": {
      "text/plain": [
       "array([[28, 26],\n",
       "       [80, 40],\n",
       "       [65, 63]])"
      ]
     },
     "execution_count": 50,
     "metadata": {},
     "output_type": "execute_result"
    }
   ],
   "source": [
    "a @ b"
   ]
  },
  {
   "cell_type": "code",
   "execution_count": 52,
   "id": "610df630-c4a8-41e0-8b2a-168358e18d7d",
   "metadata": {},
   "outputs": [
    {
     "data": {
      "text/plain": [
       "array([[3, 2, 7],\n",
       "       [1, 8, 3]])"
      ]
     },
     "execution_count": 52,
     "metadata": {},
     "output_type": "execute_result"
    }
   ],
   "source": [
    "b.T"
   ]
  },
  {
   "cell_type": "code",
   "execution_count": 53,
   "id": "bc0ed850-705b-4c4e-b5c8-2ae4555512af",
   "metadata": {},
   "outputs": [
    {
     "data": {
      "text/plain": [
       "array([[27, 43, 76],\n",
       "       [47, 25, 96]])"
      ]
     },
     "execution_count": 53,
     "metadata": {},
     "output_type": "execute_result"
    }
   ],
   "source": [
    "b.T @ a"
   ]
  }
 ],
 "metadata": {
  "kernelspec": {
   "display_name": "Python 3 (ipykernel)",
   "language": "python",
   "name": "python3"
  },
  "language_info": {
   "codemirror_mode": {
    "name": "ipython",
    "version": 3
   },
   "file_extension": ".py",
   "mimetype": "text/x-python",
   "name": "python",
   "nbconvert_exporter": "python",
   "pygments_lexer": "ipython3",
   "version": "3.9.7"
  }
 },
 "nbformat": 4,
 "nbformat_minor": 5
}
