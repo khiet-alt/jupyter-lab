{
 "cells": [
  {
   "cell_type": "code",
   "execution_count": 5,
   "id": "10ed5ff5-1abd-4cd8-9fa7-83d356bce8f2",
   "metadata": {},
   "outputs": [
    {
     "name": "stdout",
     "output_type": "stream",
     "text": [
      "Collecting package metadata (current_repodata.json): ...working... done\n",
      "Solving environment: ...working... done\n",
      "\n",
      "## Package Plan ##\n",
      "\n",
      "  environment location: D:\\exec-in-cmd\\miniconda3\\envs\\my-env\n",
      "\n",
      "  added / updated specs:\n",
      "    - numpy\n",
      "\n",
      "\n",
      "The following packages will be downloaded:\n",
      "\n",
      "    package                    |            build\n",
      "    ---------------------------|-----------------\n",
      "    blas-1.0                   |              mkl           6 KB\n",
      "    intel-openmp-2021.3.0      |    haa95532_3372         2.0 MB\n",
      "    mkl-2021.3.0               |     haa95532_524       113.7 MB\n",
      "    mkl-service-2.4.0          |   py39h2bbff1b_0          51 KB\n",
      "    mkl_fft-1.3.0              |   py39h277e83a_2         137 KB\n",
      "    mkl_random-1.2.2           |   py39hf11a4ad_0         225 KB\n",
      "    numpy-1.20.3               |   py39ha4e8547_0          23 KB\n",
      "    numpy-base-1.20.3          |   py39hc2deb75_0         4.2 MB\n",
      "    openssl-1.1.1l             |       h2bbff1b_0         4.8 MB\n",
      "    ------------------------------------------------------------\n",
      "                                           Total:       125.2 MB\n",
      "\n",
      "The following NEW packages will be INSTALLED:\n",
      "\n",
      "  blas               pkgs/main/win-64::blas-1.0-mkl\n",
      "  intel-openmp       pkgs/main/win-64::intel-openmp-2021.3.0-haa95532_3372\n",
      "  mkl                pkgs/main/win-64::mkl-2021.3.0-haa95532_524\n",
      "  mkl-service        pkgs/main/win-64::mkl-service-2.4.0-py39h2bbff1b_0\n",
      "  mkl_fft            pkgs/main/win-64::mkl_fft-1.3.0-py39h277e83a_2\n",
      "  mkl_random         pkgs/main/win-64::mkl_random-1.2.2-py39hf11a4ad_0\n",
      "  numpy              pkgs/main/win-64::numpy-1.20.3-py39ha4e8547_0\n",
      "  numpy-base         pkgs/main/win-64::numpy-base-1.20.3-py39hc2deb75_0\n",
      "\n",
      "The following packages will be UPDATED:\n",
      "\n",
      "  ca-certificates    conda-forge::ca-certificates-2021.5.3~ --> pkgs/main::ca-certificates-2021.7.5-haa95532_1\n",
      "\n",
      "The following packages will be SUPERSEDED by a higher-priority channel:\n",
      "\n",
      "  certifi            conda-forge::certifi-2021.5.30-py39hc~ --> pkgs/main::certifi-2021.5.30-py39haa95532_0\n",
      "  openssl            conda-forge::openssl-1.1.1l-h8ffe710_0 --> pkgs/main::openssl-1.1.1l-h2bbff1b_0\n",
      "\n",
      "\n",
      "\n",
      "Downloading and Extracting Packages\n",
      "\n",
      "openssl-1.1.1l       | 4.8 MB    |            |   0% \n",
      "openssl-1.1.1l       | 4.8 MB    |            |   0% \n",
      "openssl-1.1.1l       | 4.8 MB    | 9          |   9% \n",
      "openssl-1.1.1l       | 4.8 MB    | ##3        |  24% \n",
      "openssl-1.1.1l       | 4.8 MB    | ###2       |  33% \n",
      "openssl-1.1.1l       | 4.8 MB    | #####1     |  52% \n",
      "openssl-1.1.1l       | 4.8 MB    | ######2    |  62% \n",
      "openssl-1.1.1l       | 4.8 MB    | #######8   |  79% \n",
      "openssl-1.1.1l       | 4.8 MB    | ########## | 100% \n",
      "openssl-1.1.1l       | 4.8 MB    | ########## | 100% \n",
      "\n",
      "mkl_fft-1.3.0        | 137 KB    |            |   0% \n",
      "mkl_fft-1.3.0        | 137 KB    | #1         |  12% \n",
      "mkl_fft-1.3.0        | 137 KB    | ########## | 100% \n",
      "mkl_fft-1.3.0        | 137 KB    | ########## | 100% \n",
      "\n",
      "mkl_random-1.2.2     | 225 KB    |            |   0% \n",
      "mkl_random-1.2.2     | 225 KB    | 7          |   7% \n",
      "mkl_random-1.2.2     | 225 KB    | ########## | 100% \n",
      "mkl_random-1.2.2     | 225 KB    | ########## | 100% \n",
      "\n",
      "intel-openmp-2021.3. | 2.0 MB    |            |   0% \n",
      "intel-openmp-2021.3. | 2.0 MB    | #6         |  16% \n",
      "intel-openmp-2021.3. | 2.0 MB    | ###5       |  35% \n",
      "intel-openmp-2021.3. | 2.0 MB    | #####3     |  54% \n",
      "intel-openmp-2021.3. | 2.0 MB    | ########## | 100% \n",
      "intel-openmp-2021.3. | 2.0 MB    | ########## | 100% \n",
      "\n",
      "blas-1.0             | 6 KB      |            |   0% \n",
      "blas-1.0             | 6 KB      | ########## | 100% \n",
      "blas-1.0             | 6 KB      | ########## | 100% \n",
      "\n",
      "mkl-service-2.4.0    | 51 KB     |            |   0% \n",
      "mkl-service-2.4.0    | 51 KB     | ########## | 100% \n",
      "mkl-service-2.4.0    | 51 KB     | ########## | 100% \n",
      "\n",
      "numpy-1.20.3         | 23 KB     |            |   0% \n",
      "numpy-1.20.3         | 23 KB     | ########## | 100% \n",
      "numpy-1.20.3         | 23 KB     | ########## | 100% \n",
      "\n",
      "mkl-2021.3.0         | 113.7 MB  |            |   0% \n",
      "mkl-2021.3.0         | 113.7 MB  |            |   0% \n",
      "mkl-2021.3.0         | 113.7 MB  |            |   1% \n",
      "mkl-2021.3.0         | 113.7 MB  | 1          |   2% \n",
      "mkl-2021.3.0         | 113.7 MB  | 2          |   2% \n",
      "mkl-2021.3.0         | 113.7 MB  | 3          |   3% \n",
      "mkl-2021.3.0         | 113.7 MB  | 4          |   4% \n",
      "mkl-2021.3.0         | 113.7 MB  | 4          |   5% \n",
      "mkl-2021.3.0         | 113.7 MB  | 5          |   6% \n",
      "mkl-2021.3.0         | 113.7 MB  | 6          |   6% \n",
      "mkl-2021.3.0         | 113.7 MB  | 6          |   7% \n",
      "mkl-2021.3.0         | 113.7 MB  | 7          |   8% \n",
      "mkl-2021.3.0         | 113.7 MB  | 8          |   8% \n",
      "mkl-2021.3.0         | 113.7 MB  | 9          |   9% \n",
      "mkl-2021.3.0         | 113.7 MB  | 9          |  10% \n",
      "mkl-2021.3.0         | 113.7 MB  | #          |  10% \n",
      "mkl-2021.3.0         | 113.7 MB  | #1         |  11% \n",
      "mkl-2021.3.0         | 113.7 MB  | #2         |  12% \n",
      "mkl-2021.3.0         | 113.7 MB  | #2         |  13% \n",
      "mkl-2021.3.0         | 113.7 MB  | #3         |  13% \n",
      "mkl-2021.3.0         | 113.7 MB  | #3         |  14% \n",
      "mkl-2021.3.0         | 113.7 MB  | #4         |  14% \n",
      "mkl-2021.3.0         | 113.7 MB  | #4         |  15% \n",
      "mkl-2021.3.0         | 113.7 MB  | #4         |  15% \n",
      "mkl-2021.3.0         | 113.7 MB  | #5         |  15% \n",
      "mkl-2021.3.0         | 113.7 MB  | #5         |  16% \n",
      "mkl-2021.3.0         | 113.7 MB  | #6         |  16% \n",
      "mkl-2021.3.0         | 113.7 MB  | #7         |  17% \n",
      "mkl-2021.3.0         | 113.7 MB  | #7         |  17% \n",
      "mkl-2021.3.0         | 113.7 MB  | #7         |  18% \n",
      "mkl-2021.3.0         | 113.7 MB  | #8         |  18% \n",
      "mkl-2021.3.0         | 113.7 MB  | #9         |  19% \n"
     ]
    }
   ],
   "source": [
    "# Install a conda package in the current Jupyter kernel\n",
    "import sys\n",
    "!conda install --yes --prefix {sys.prefix} numpy"
   ]
  },
  {
   "cell_type": "code",
   "execution_count": 31,
   "id": "4b0fcbb0-f559-46e9-9b03-ecfe96145fe6",
   "metadata": {},
   "outputs": [
    {
     "name": "stdout",
     "output_type": "stream",
     "text": [
      "Collecting package metadata (current_repodata.json): ...working... done\n",
      "Solving environment: ...working... done\n",
      "\n",
      "## Package Plan ##\n",
      "\n",
      "  environment location: D:\\exec-in-cmd\\miniconda3\\envs\\my-env\n",
      "\n",
      "  added / updated specs:\n",
      "    - pandas\n",
      "\n",
      "\n",
      "The following packages will be downloaded:\n",
      "\n",
      "    package                    |            build\n",
      "    ---------------------------|-----------------\n",
      "    bottleneck-1.3.2           |   py39h7cc1a96_1         107 KB\n",
      "    numexpr-2.7.3              |   py39hb80d3ca_1         126 KB\n",
      "    pandas-1.3.3               |   py39h6214cd6_0         8.6 MB\n",
      "    ------------------------------------------------------------\n",
      "                                           Total:         8.9 MB\n",
      "\n",
      "The following NEW packages will be INSTALLED:\n",
      "\n",
      "  bottleneck         pkgs/main/win-64::bottleneck-1.3.2-py39h7cc1a96_1\n",
      "  numexpr            pkgs/main/win-64::numexpr-2.7.3-py39hb80d3ca_1\n",
      "  pandas             pkgs/main/win-64::pandas-1.3.3-py39h6214cd6_0\n",
      "\n",
      "\n",
      "\n",
      "Downloading and Extracting Packages\n",
      "\n",
      "pandas-1.3.3         | 8.6 MB    |            |   0% \n",
      "pandas-1.3.3         | 8.6 MB    |            |   0% \n",
      "pandas-1.3.3         | 8.6 MB    | 3          |   3% \n",
      "pandas-1.3.3         | 8.6 MB    | #          |  10% \n",
      "pandas-1.3.3         | 8.6 MB    | #5         |  16% \n",
      "pandas-1.3.3         | 8.6 MB    | ###1       |  32% \n",
      "pandas-1.3.3         | 8.6 MB    | ####4      |  44% \n",
      "pandas-1.3.3         | 8.6 MB    | #####4     |  54% \n",
      "pandas-1.3.3         | 8.6 MB    | ######4    |  64% \n",
      "pandas-1.3.3         | 8.6 MB    | #######3   |  74% \n",
      "pandas-1.3.3         | 8.6 MB    | ########2  |  83% \n",
      "pandas-1.3.3         | 8.6 MB    | #########4 |  95% \n",
      "pandas-1.3.3         | 8.6 MB    | ########## | 100% \n",
      "\n",
      "bottleneck-1.3.2     | 107 KB    |            |   0% \n",
      "bottleneck-1.3.2     | 107 KB    | ########## | 100% \n",
      "bottleneck-1.3.2     | 107 KB    | ########## | 100% \n",
      "\n",
      "numexpr-2.7.3        | 126 KB    |            |   0% \n",
      "numexpr-2.7.3        | 126 KB    | ########## | 100% \n",
      "numexpr-2.7.3        | 126 KB    | ########## | 100% \n",
      "Preparing transaction: ...working... done\n",
      "Verifying transaction: ...working... done\n",
      "Executing transaction: ...working... done\n"
     ]
    }
   ],
   "source": [
    "import sys\n",
    "!conda install --yes --prefix {sys.prefix} pandas"
   ]
  },
  {
   "cell_type": "code",
   "execution_count": 1,
   "id": "2d3d71da-8fee-44cb-a3fd-a3969be302f3",
   "metadata": {},
   "outputs": [
    {
     "name": "stdout",
     "output_type": "stream",
     "text": [
      "Collecting package metadata (current_repodata.json): ...working... done\n",
      "Solving environment: ...working... done\n",
      "\n",
      "## Package Plan ##\n",
      "\n",
      "  environment location: D:\\exec-in-cmd\\miniconda3\\envs\\my-env\n",
      "\n",
      "  added / updated specs:\n",
      "    - matplotlib\n",
      "\n",
      "\n",
      "The following NEW packages will be INSTALLED:\n",
      "\n",
      "  brotli             pkgs/main/win-64::brotli-1.0.9-ha925a31_2\n",
      "  cycler             pkgs/main/win-64::cycler-0.10.0-py39haa95532_0\n",
      "  fonttools          pkgs/main/noarch::fonttools-4.25.0-pyhd3eb1b0_0\n",
      "  freetype           pkgs/main/win-64::freetype-2.10.4-hd328e21_0\n",
      "  icu                pkgs/main/win-64::icu-58.2-ha925a31_3\n",
      "  jpeg               pkgs/main/win-64::jpeg-9d-h2bbff1b_0\n",
      "  kiwisolver         pkgs/main/win-64::kiwisolver-1.3.1-py39hd77b12b_0\n",
      "  libpng             pkgs/main/win-64::libpng-1.6.37-h2a8f88b_0\n",
      "  libtiff            pkgs/main/win-64::libtiff-4.2.0-hd0e1b90_0\n",
      "  lz4-c              pkgs/main/win-64::lz4-c-1.9.3-h2bbff1b_1\n",
      "  matplotlib         pkgs/main/win-64::matplotlib-3.4.2-py39haa95532_0\n",
      "  matplotlib-base    pkgs/main/win-64::matplotlib-base-3.4.2-py39h49ac443_0\n",
      "  munkres            pkgs/main/noarch::munkres-1.1.4-py_0\n",
      "  olefile            pkgs/main/noarch::olefile-0.46-pyhd3eb1b0_0\n",
      "  pillow             pkgs/main/win-64::pillow-8.3.1-py39h4fa10fc_0\n",
      "  pyqt               pkgs/main/win-64::pyqt-5.9.2-py39hd77b12b_6\n",
      "  qt                 pkgs/main/win-64::qt-5.9.7-vc14h73c81de_0\n",
      "  sip                pkgs/main/win-64::sip-4.19.13-py39hd77b12b_0\n",
      "  tk                 pkgs/main/win-64::tk-8.6.11-h2bbff1b_0\n",
      "  xz                 pkgs/main/win-64::xz-5.2.5-h62dcd97_0\n",
      "  zlib               pkgs/main/win-64::zlib-1.2.11-h62dcd97_4\n",
      "  zstd               pkgs/main/win-64::zstd-1.4.9-h19a0ad4_0\n",
      "\n",
      "\n",
      "Preparing transaction: ...working... done\n",
      "Verifying transaction: ...working... done\n",
      "Executing transaction: ...working... done\n"
     ]
    }
   ],
   "source": [
    "import sys\n",
    "!conda install --yes --prefix {sys.prefix} matplotlib"
   ]
  },
  {
   "cell_type": "code",
   "execution_count": 8,
   "id": "70792de8-c4d7-46b5-9c57-5f2ca4f987a6",
   "metadata": {},
   "outputs": [],
   "source": [
    "import numpy as np"
   ]
  },
  {
   "cell_type": "code",
   "execution_count": 9,
   "id": "f54ae14a-0b44-4b26-8e35-1a0d9e6d6751",
   "metadata": {},
   "outputs": [
    {
     "data": {
      "text/plain": [
       "['D:\\\\Desktop\\\\python\\\\jupyter',\n",
       " 'D:\\\\exec-in-cmd\\\\miniconda3\\\\envs\\\\my-env\\\\python39.zip',\n",
       " 'D:\\\\exec-in-cmd\\\\miniconda3\\\\envs\\\\my-env\\\\DLLs',\n",
       " 'D:\\\\exec-in-cmd\\\\miniconda3\\\\envs\\\\my-env\\\\lib',\n",
       " 'D:\\\\exec-in-cmd\\\\miniconda3\\\\envs\\\\my-env',\n",
       " '',\n",
       " 'C:\\\\Users\\\\Thanh Khiet\\\\AppData\\\\Roaming\\\\Python\\\\Python39\\\\site-packages',\n",
       " 'D:\\\\exec-in-cmd\\\\miniconda3\\\\envs\\\\my-env\\\\lib\\\\site-packages',\n",
       " 'D:\\\\exec-in-cmd\\\\miniconda3\\\\envs\\\\my-env\\\\lib\\\\site-packages\\\\win32',\n",
       " 'D:\\\\exec-in-cmd\\\\miniconda3\\\\envs\\\\my-env\\\\lib\\\\site-packages\\\\win32\\\\lib',\n",
       " 'D:\\\\exec-in-cmd\\\\miniconda3\\\\envs\\\\my-env\\\\lib\\\\site-packages\\\\Pythonwin',\n",
       " 'D:\\\\exec-in-cmd\\\\miniconda3\\\\envs\\\\my-env\\\\lib\\\\site-packages\\\\IPython\\\\extensions',\n",
       " 'C:\\\\Users\\\\Thanh Khiet\\\\.ipython']"
      ]
     },
     "execution_count": 9,
     "metadata": {},
     "output_type": "execute_result"
    }
   ],
   "source": [
    "sys.path"
   ]
  },
  {
   "cell_type": "code",
   "execution_count": 11,
   "id": "1371bd1b-9cee-429a-a206-f71269b4fb03",
   "metadata": {},
   "outputs": [
    {
     "data": {
      "text/plain": [
       "['D:\\\\exec-in-cmd\\\\miniconda3\\\\envs\\\\my-env\\\\lib\\\\site-packages\\\\numpy']"
      ]
     },
     "execution_count": 11,
     "metadata": {},
     "output_type": "execute_result"
    }
   ],
   "source": [
    "np.__path__"
   ]
  },
  {
   "cell_type": "code",
   "execution_count": 21,
   "id": "33b45ce6-f819-4fb1-9f8d-a371e8b69f50",
   "metadata": {},
   "outputs": [
    {
     "data": {
      "text/plain": [
       "'D:\\\\exec-in-cmd\\\\miniconda3\\\\envs\\\\my-env\\\\python.exe'"
      ]
     },
     "execution_count": 21,
     "metadata": {},
     "output_type": "execute_result"
    }
   ],
   "source": [
    "sys.executable"
   ]
  },
  {
   "cell_type": "code",
   "execution_count": 30,
   "id": "6e8566e0-3df4-4151-ab21-43cbd72e518d",
   "metadata": {},
   "outputs": [
    {
     "data": {
      "text/plain": [
       "1073741824"
      ]
     },
     "execution_count": 30,
     "metadata": {},
     "output_type": "execute_result"
    }
   ],
   "source": [
    "np.int32(2**30)"
   ]
  }
 ],
 "metadata": {
  "kernelspec": {
   "display_name": "Python 3 (ipykernel)",
   "language": "python",
   "name": "python3"
  },
  "language_info": {
   "codemirror_mode": {
    "name": "ipython",
    "version": 3
   },
   "file_extension": ".py",
   "mimetype": "text/x-python",
   "name": "python",
   "nbconvert_exporter": "python",
   "pygments_lexer": "ipython3",
   "version": "3.9.7"
  }
 },
 "nbformat": 4,
 "nbformat_minor": 5
}
